{
 "cells": [
  {
   "cell_type": "markdown",
   "metadata": {},
   "source": [
    "Tathiane Souza"
   ]
  },
  {
   "cell_type": "markdown",
   "metadata": {},
   "source": [
    "## 1. Explorando os dados\n",
    "\n",
    "\n",
    "Esta pesquisa utiliza dados sobre pagamentos de clientes de Taiwan fazendo uma análise sobre a inadimplência.\n",
    "\n",
    "\n"
   ]
  },
  {
   "cell_type": "code",
   "execution_count": 2,
   "metadata": {},
   "outputs": [],
   "source": [
    "import numpy as np\n",
    "import pandas as pd\n",
    "import seaborn as sns\n",
    "import matplotlib.pyplot as plt\n",
    "%matplotlib inline\n",
    "\n",
    "from sklearn.metrics import accuracy_score, roc_auc_score, confusion_matrix, precision_score, recall_score, classification_report, precision_recall_curve, average_precision_score, roc_curve, auc\n",
    "from sklearn.pipeline import FeatureUnion, make_pipeline\n",
    "from sklearn.preprocessing import LabelEncoder, OneHotEncoder, StandardScaler\n",
    "from sklearn.linear_model import LogisticRegression\n",
    "from sklearn.svm import SVC\n",
    "from sklearn.linear_model import Perceptron\n",
    "from sklearn.naive_bayes import GaussianNB\n",
    "from sklearn.tree import DecisionTreeClassifier\n",
    "from sklearn.decomposition import PCA\n",
    "\n",
    "import warnings\n",
    "warnings.filterwarnings('ignore')"
   ]
  },
  {
   "cell_type": "markdown",
   "metadata": {},
   "source": [
    "Agora, você pode descobrir os seguintes fatos sobre o conjunto de dados?\n",
    "\n",
    "- Número total de consumidores\n",
    "- Número de onsumidores que efetuaram o pagamento\n",
    "- Número de consumidores que não efetuaram o pagamento\n",
    "- Taxa de pagantes (%)\n"
   ]
  },
  {
   "cell_type": "code",
   "execution_count": 3,
   "metadata": {},
   "outputs": [
    {
     "name": "stdout",
     "output_type": "stream",
     "text": [
      "successo!\n"
     ]
    }
   ],
   "source": [
    "\n",
    "credit_data = pd.read_csv(\"UCI_Credit_Card.csv\")\n",
    "print( \"successo!\")\n"
   ]
  },
  {
   "cell_type": "code",
   "execution_count": 4,
   "metadata": {},
   "outputs": [
    {
     "data": {
      "text/html": [
       "<div>\n",
       "<style scoped>\n",
       "    .dataframe tbody tr th:only-of-type {\n",
       "        vertical-align: middle;\n",
       "    }\n",
       "\n",
       "    .dataframe tbody tr th {\n",
       "        vertical-align: top;\n",
       "    }\n",
       "\n",
       "    .dataframe thead th {\n",
       "        text-align: right;\n",
       "    }\n",
       "</style>\n",
       "<table border=\"1\" class=\"dataframe\">\n",
       "  <thead>\n",
       "    <tr style=\"text-align: right;\">\n",
       "      <th></th>\n",
       "      <th>ID</th>\n",
       "      <th>LIMIT_BAL</th>\n",
       "      <th>SEX</th>\n",
       "      <th>EDUCATION</th>\n",
       "      <th>MARRIAGE</th>\n",
       "      <th>AGE</th>\n",
       "      <th>PAY_0</th>\n",
       "      <th>PAY_2</th>\n",
       "      <th>PAY_3</th>\n",
       "      <th>PAY_4</th>\n",
       "      <th>...</th>\n",
       "      <th>BILL_AMT4</th>\n",
       "      <th>BILL_AMT5</th>\n",
       "      <th>BILL_AMT6</th>\n",
       "      <th>PAY_AMT1</th>\n",
       "      <th>PAY_AMT2</th>\n",
       "      <th>PAY_AMT3</th>\n",
       "      <th>PAY_AMT4</th>\n",
       "      <th>PAY_AMT5</th>\n",
       "      <th>PAY_AMT6</th>\n",
       "      <th>next_payment</th>\n",
       "    </tr>\n",
       "  </thead>\n",
       "  <tbody>\n",
       "    <tr>\n",
       "      <th>0</th>\n",
       "      <td>1</td>\n",
       "      <td>20000</td>\n",
       "      <td>2</td>\n",
       "      <td>2</td>\n",
       "      <td>1</td>\n",
       "      <td>24</td>\n",
       "      <td>2</td>\n",
       "      <td>2</td>\n",
       "      <td>-1</td>\n",
       "      <td>-1</td>\n",
       "      <td>...</td>\n",
       "      <td>0</td>\n",
       "      <td>0</td>\n",
       "      <td>0</td>\n",
       "      <td>0</td>\n",
       "      <td>689</td>\n",
       "      <td>0</td>\n",
       "      <td>0</td>\n",
       "      <td>0</td>\n",
       "      <td>0</td>\n",
       "      <td>1</td>\n",
       "    </tr>\n",
       "    <tr>\n",
       "      <th>1</th>\n",
       "      <td>2</td>\n",
       "      <td>120000</td>\n",
       "      <td>2</td>\n",
       "      <td>2</td>\n",
       "      <td>2</td>\n",
       "      <td>26</td>\n",
       "      <td>-1</td>\n",
       "      <td>2</td>\n",
       "      <td>0</td>\n",
       "      <td>0</td>\n",
       "      <td>...</td>\n",
       "      <td>3272</td>\n",
       "      <td>3455</td>\n",
       "      <td>3261</td>\n",
       "      <td>0</td>\n",
       "      <td>1000</td>\n",
       "      <td>1000</td>\n",
       "      <td>1000</td>\n",
       "      <td>0</td>\n",
       "      <td>2000</td>\n",
       "      <td>1</td>\n",
       "    </tr>\n",
       "    <tr>\n",
       "      <th>2</th>\n",
       "      <td>3</td>\n",
       "      <td>90000</td>\n",
       "      <td>2</td>\n",
       "      <td>2</td>\n",
       "      <td>2</td>\n",
       "      <td>34</td>\n",
       "      <td>0</td>\n",
       "      <td>0</td>\n",
       "      <td>0</td>\n",
       "      <td>0</td>\n",
       "      <td>...</td>\n",
       "      <td>14331</td>\n",
       "      <td>14948</td>\n",
       "      <td>15549</td>\n",
       "      <td>1518</td>\n",
       "      <td>1500</td>\n",
       "      <td>1000</td>\n",
       "      <td>1000</td>\n",
       "      <td>1000</td>\n",
       "      <td>5000</td>\n",
       "      <td>0</td>\n",
       "    </tr>\n",
       "  </tbody>\n",
       "</table>\n",
       "<p>3 rows × 25 columns</p>\n",
       "</div>"
      ],
      "text/plain": [
       "   ID  LIMIT_BAL  SEX  EDUCATION  MARRIAGE  AGE  PAY_0  PAY_2  PAY_3  PAY_4  \\\n",
       "0   1      20000    2          2         1   24      2      2     -1     -1   \n",
       "1   2     120000    2          2         2   26     -1      2      0      0   \n",
       "2   3      90000    2          2         2   34      0      0      0      0   \n",
       "\n",
       "   ...  BILL_AMT4  BILL_AMT5  BILL_AMT6  PAY_AMT1  PAY_AMT2  PAY_AMT3  \\\n",
       "0  ...          0          0          0         0       689         0   \n",
       "1  ...       3272       3455       3261         0      1000      1000   \n",
       "2  ...      14331      14948      15549      1518      1500      1000   \n",
       "\n",
       "   PAY_AMT4  PAY_AMT5  PAY_AMT6  next_payment  \n",
       "0         0         0         0             1  \n",
       "1      1000         0      2000             1  \n",
       "2      1000      1000      5000             0  \n",
       "\n",
       "[3 rows x 25 columns]"
      ]
     },
     "execution_count": 4,
     "metadata": {},
     "output_type": "execute_result"
    }
   ],
   "source": [
    "# Dataset Carregado, limitando as 10 primeira linhas\n",
    "credit_data.head(3)"
   ]
  },
  {
   "cell_type": "code",
   "execution_count": 6,
   "metadata": {},
   "outputs": [
    {
     "data": {
      "text/plain": [
       "ID              0\n",
       "LIMIT_BAL       0\n",
       "SEX             0\n",
       "EDUCATION       0\n",
       "MARRIAGE        0\n",
       "AGE             0\n",
       "PAY_0           0\n",
       "PAY_2           0\n",
       "PAY_3           0\n",
       "PAY_4           0\n",
       "PAY_5           0\n",
       "PAY_6           0\n",
       "BILL_AMT1       0\n",
       "BILL_AMT2       0\n",
       "BILL_AMT3       0\n",
       "BILL_AMT4       0\n",
       "BILL_AMT5       0\n",
       "BILL_AMT6       0\n",
       "PAY_AMT1        0\n",
       "PAY_AMT2        0\n",
       "PAY_AMT3        0\n",
       "PAY_AMT4        0\n",
       "PAY_AMT5        0\n",
       "PAY_AMT6        0\n",
       "next_payment    0\n",
       "dtype: int64"
      ]
     },
     "execution_count": 6,
     "metadata": {},
     "output_type": "execute_result"
    }
   ],
   "source": [
    "credit_data.isnull().sum() #verificação se há valores nulos"
   ]
  },
  {
   "cell_type": "code",
   "execution_count": 7,
   "metadata": {},
   "outputs": [
    {
     "name": "stdout",
     "output_type": "stream",
     "text": [
      "Total de clientes: 30000\n",
      "Número de clients que pagaram: 6636\n",
      "Número de clientes que não pagaram: 23364\n",
      "Número de colunas de características: 24\n",
      "Taxa de pagamento: 22.12%\n"
     ]
    }
   ],
   "source": [
    "n_consumers = credit_data.shape[0]\n",
    "n_features = credit_data.shape[1]-1\n",
    "n_paying = credit_data.next_payment[credit_data.next_payment == 1].count()\n",
    "n_failed = credit_data.next_payment[credit_data.next_payment == 0].count()\n",
    "grad_rate = (float(n_paying) / n_consumers) * 100.0\n",
    "print (\"Total de clientes: {}\".format(n_consumers))\n",
    "print (\"Número de clients que pagaram: {}\".format(n_paying))\n",
    "print (\"Número de clientes que não pagaram: {}\".format(n_failed))\n",
    "print (\"Número de colunas de características: {}\".format(n_features))\n",
    "print (\"Taxa de pagamento: {:.2f}%\".format(grad_rate))"
   ]
  },
  {
   "cell_type": "markdown",
   "metadata": {},
   "source": [
    "## 2. Preparando os dados\n",
    "Nesta seção, prepararemos os dados para modelagem, treinamento e teste.\n",
    "\n",
    "### Identificar colunas de características e de destino\n",
    "\n",
    "Separado os dados em colunas de características e de destino e ver se se esses dados não são numéricos. <br/>\n",
    "** Nota **: Para este conjunto de dados, a última coluna (`'next_payment'`) é o destino que estamos tentando prever."
   ]
  },
  {
   "cell_type": "code",
   "execution_count": 8,
   "metadata": {},
   "outputs": [
    {
     "name": "stdout",
     "output_type": "stream",
     "text": [
      "coluna (s) de características: - \n",
      " ['LIMIT_BAL', 'SEX', 'EDUCATION', 'MARRIAGE', 'AGE', 'PAY_0', 'PAY_2', 'PAY_3', 'PAY_4', 'PAY_5', 'PAY_6', 'BILL_AMT1', 'BILL_AMT2', 'BILL_AMT3', 'BILL_AMT4', 'BILL_AMT5', 'BILL_AMT6', 'PAY_AMT1', 'PAY_AMT2', 'PAY_AMT3', 'PAY_AMT4', 'PAY_AMT5', 'PAY_AMT6']\n",
      "\n",
      "coluna de destino: next_payment\n",
      "\n",
      " Características: -\n",
      "   LIMIT_BAL  SEX  EDUCATION  MARRIAGE  AGE  PAY_0  PAY_2  PAY_3  PAY_4  \\\n",
      "0      20000    2          2         1   24      2      2     -1     -1   \n",
      "1     120000    2          2         2   26     -1      2      0      0   \n",
      "2      90000    2          2         2   34      0      0      0      0   \n",
      "3      50000    2          2         1   37      0      0      0      0   \n",
      "4      50000    1          2         1   57     -1      0     -1      0   \n",
      "\n",
      "   PAY_5  ...  BILL_AMT3  BILL_AMT4  BILL_AMT5  BILL_AMT6  PAY_AMT1  PAY_AMT2  \\\n",
      "0     -2  ...        689          0          0          0         0       689   \n",
      "1      0  ...       2682       3272       3455       3261         0      1000   \n",
      "2      0  ...      13559      14331      14948      15549      1518      1500   \n",
      "3      0  ...      49291      28314      28959      29547      2000      2019   \n",
      "4      0  ...      35835      20940      19146      19131      2000     36681   \n",
      "\n",
      "   PAY_AMT3  PAY_AMT4  PAY_AMT5  PAY_AMT6  \n",
      "0         0         0         0         0  \n",
      "1      1000      1000         0      2000  \n",
      "2      1000      1000      1000      5000  \n",
      "3      1200      1100      1069      1000  \n",
      "4     10000      9000       689       679  \n",
      "\n",
      "[5 rows x 23 columns]\n",
      "0    1\n",
      "1    1\n",
      "2    0\n",
      "3    0\n",
      "4    0\n",
      "Name: next_payment, dtype: int64\n"
     ]
    }
   ],
   "source": [
    "feature_cols = list (credit_data.columns [1:-1])\n",
    "target_col = credit_data.columns [-1] #  coluna de destino\n",
    "print (\"coluna (s) de características: - \\n {}\". format (feature_cols))\n",
    "print (\"\\ncoluna de destino: {}\". format (target_col))\n",
    "\n",
    "X_all = credit_data [feature_cols] # feactures-caracteristicas\n",
    "y_all = credit_data [target_col] # next_payment\n",
    "print (\"\\n Características: -\")\n",
    "print (X_all.head ()) # imprime as primeiras 5 linhas\n",
    "print (y_all.head ()) "
   ]
  },
  {
   "cell_type": "markdown",
   "metadata": {},
   "source": [
    "## 3. Pré-processamento dos dados\n",
    "\n",
    " OneHotEncoder, não é necessario pois todos os dados são numéricos"
   ]
  },
  {
   "cell_type": "code",
   "execution_count": 9,
   "metadata": {
    "scrolled": true
   },
   "outputs": [
    {
     "name": "stdout",
     "output_type": "stream",
     "text": [
      "Colunas processadas (23):-\n",
      "['LIMIT_BAL', 'SEX', 'EDUCATION', 'MARRIAGE', 'AGE', 'PAY_0', 'PAY_2', 'PAY_3', 'PAY_4', 'PAY_5', 'PAY_6', 'BILL_AMT1', 'BILL_AMT2', 'BILL_AMT3', 'BILL_AMT4', 'BILL_AMT5', 'BILL_AMT6', 'PAY_AMT1', 'PAY_AMT2', 'PAY_AMT3', 'PAY_AMT4', 'PAY_AMT5', 'PAY_AMT6']\n"
     ]
    },
    {
     "data": {
      "text/html": [
       "<div>\n",
       "<style scoped>\n",
       "    .dataframe tbody tr th:only-of-type {\n",
       "        vertical-align: middle;\n",
       "    }\n",
       "\n",
       "    .dataframe tbody tr th {\n",
       "        vertical-align: top;\n",
       "    }\n",
       "\n",
       "    .dataframe thead th {\n",
       "        text-align: right;\n",
       "    }\n",
       "</style>\n",
       "<table border=\"1\" class=\"dataframe\">\n",
       "  <thead>\n",
       "    <tr style=\"text-align: right;\">\n",
       "      <th></th>\n",
       "      <th>LIMIT_BAL</th>\n",
       "      <th>SEX</th>\n",
       "      <th>EDUCATION</th>\n",
       "      <th>MARRIAGE</th>\n",
       "      <th>AGE</th>\n",
       "      <th>PAY_0</th>\n",
       "      <th>PAY_2</th>\n",
       "      <th>PAY_3</th>\n",
       "      <th>PAY_4</th>\n",
       "      <th>PAY_5</th>\n",
       "      <th>...</th>\n",
       "      <th>BILL_AMT3</th>\n",
       "      <th>BILL_AMT4</th>\n",
       "      <th>BILL_AMT5</th>\n",
       "      <th>BILL_AMT6</th>\n",
       "      <th>PAY_AMT1</th>\n",
       "      <th>PAY_AMT2</th>\n",
       "      <th>PAY_AMT3</th>\n",
       "      <th>PAY_AMT4</th>\n",
       "      <th>PAY_AMT5</th>\n",
       "      <th>PAY_AMT6</th>\n",
       "    </tr>\n",
       "  </thead>\n",
       "  <tbody>\n",
       "    <tr>\n",
       "      <th>0</th>\n",
       "      <td>20000</td>\n",
       "      <td>2</td>\n",
       "      <td>2</td>\n",
       "      <td>1</td>\n",
       "      <td>24</td>\n",
       "      <td>2</td>\n",
       "      <td>2</td>\n",
       "      <td>-1</td>\n",
       "      <td>-1</td>\n",
       "      <td>-2</td>\n",
       "      <td>...</td>\n",
       "      <td>689</td>\n",
       "      <td>0</td>\n",
       "      <td>0</td>\n",
       "      <td>0</td>\n",
       "      <td>0</td>\n",
       "      <td>689</td>\n",
       "      <td>0</td>\n",
       "      <td>0</td>\n",
       "      <td>0</td>\n",
       "      <td>0</td>\n",
       "    </tr>\n",
       "    <tr>\n",
       "      <th>1</th>\n",
       "      <td>120000</td>\n",
       "      <td>2</td>\n",
       "      <td>2</td>\n",
       "      <td>2</td>\n",
       "      <td>26</td>\n",
       "      <td>-1</td>\n",
       "      <td>2</td>\n",
       "      <td>0</td>\n",
       "      <td>0</td>\n",
       "      <td>0</td>\n",
       "      <td>...</td>\n",
       "      <td>2682</td>\n",
       "      <td>3272</td>\n",
       "      <td>3455</td>\n",
       "      <td>3261</td>\n",
       "      <td>0</td>\n",
       "      <td>1000</td>\n",
       "      <td>1000</td>\n",
       "      <td>1000</td>\n",
       "      <td>0</td>\n",
       "      <td>2000</td>\n",
       "    </tr>\n",
       "    <tr>\n",
       "      <th>2</th>\n",
       "      <td>90000</td>\n",
       "      <td>2</td>\n",
       "      <td>2</td>\n",
       "      <td>2</td>\n",
       "      <td>34</td>\n",
       "      <td>0</td>\n",
       "      <td>0</td>\n",
       "      <td>0</td>\n",
       "      <td>0</td>\n",
       "      <td>0</td>\n",
       "      <td>...</td>\n",
       "      <td>13559</td>\n",
       "      <td>14331</td>\n",
       "      <td>14948</td>\n",
       "      <td>15549</td>\n",
       "      <td>1518</td>\n",
       "      <td>1500</td>\n",
       "      <td>1000</td>\n",
       "      <td>1000</td>\n",
       "      <td>1000</td>\n",
       "      <td>5000</td>\n",
       "    </tr>\n",
       "  </tbody>\n",
       "</table>\n",
       "<p>3 rows × 23 columns</p>\n",
       "</div>"
      ],
      "text/plain": [
       "   LIMIT_BAL  SEX  EDUCATION  MARRIAGE  AGE  PAY_0  PAY_2  PAY_3  PAY_4  \\\n",
       "0      20000    2          2         1   24      2      2     -1     -1   \n",
       "1     120000    2          2         2   26     -1      2      0      0   \n",
       "2      90000    2          2         2   34      0      0      0      0   \n",
       "\n",
       "   PAY_5  ...  BILL_AMT3  BILL_AMT4  BILL_AMT5  BILL_AMT6  PAY_AMT1  PAY_AMT2  \\\n",
       "0     -2  ...        689          0          0          0         0       689   \n",
       "1      0  ...       2682       3272       3455       3261         0      1000   \n",
       "2      0  ...      13559      14331      14948      15549      1518      1500   \n",
       "\n",
       "   PAY_AMT3  PAY_AMT4  PAY_AMT5  PAY_AMT6  \n",
       "0         0         0         0         0  \n",
       "1      1000      1000         0      2000  \n",
       "2      1000      1000      1000      5000  \n",
       "\n",
       "[3 rows x 23 columns]"
      ]
     },
     "execution_count": 9,
     "metadata": {},
     "output_type": "execute_result"
    }
   ],
   "source": [
    "# Colunas de recurso de pré-processamento\n",
    "#def preprocess_features(X):\n",
    "#    outX = pd.DataFrame(index=X.index) \n",
    "#    #Verifique cada coluna\n",
    "#    for col, col_data in X.iteritems():\n",
    "#        if col_data.dtype == object:\n",
    "#            col_data = pd.get_dummies(col_data, prefix=col)  \n",
    "\n",
    "#        outX = outX.join(col_data) \n",
    "#    return outX\n",
    "\n",
    "#X_all = preprocess_features(X_all)\n",
    "print (\"Colunas processadas ({}):-\\n{}\".format(len(X_all.columns), list(X_all.columns)))\n",
    "X_all.head(3)"
   ]
  },
  {
   "cell_type": "code",
   "execution_count": 10,
   "metadata": {},
   "outputs": [],
   "source": [
    "#scaler = StandardScaler()\n",
    "#credit_data2 = scaler.fit_transform(credit_data)\n",
    "#credit_data2"
   ]
  },
  {
   "cell_type": "markdown",
   "metadata": {},
   "source": [
    "### Dividir os dados em conjuntos de treinamento e teste"
   ]
  },
  {
   "cell_type": "code",
   "execution_count": 11,
   "metadata": {},
   "outputs": [
    {
     "name": "stdout",
     "output_type": "stream",
     "text": [
      "Conjunto de treinamento: 20000 \n",
      "Conjunto de teste: 10000 \n"
     ]
    }
   ],
   "source": [
    "# Primeiro, decida quantas amostras de treinamento e teste você deseja\n",
    "#from sklearn.cross_validation import train_test_split\n",
    "num_all = credit_data.shape[0]  \n",
    "from sklearn.model_selection import train_test_split\n",
    "num_train = 20000  \n",
    "num_test = num_all - num_train\n",
    "\n",
    "X_train, X_test, y_train, y_test = train_test_split(X_all, y_all, train_size=20000)\n",
    "print (\"Conjunto de treinamento: {} \".format(X_train.shape[0]))\n",
    "print (\"Conjunto de teste: {} \".format(X_test.shape[0]))"
   ]
  },
  {
   "cell_type": "markdown",
   "metadata": {},
   "source": [
    "## 4. Treinando e avaliando modelos\n",
    "Escolhi os seguintes modelos, para essa avaliação supervisionada:\n",
    " - Logistic Regression\n",
    " - Decision Tree\n",
    " - SVC\n",
    " - GaussianNB\n",
    " - Perceptron"
   ]
  },
  {
   "cell_type": "code",
   "execution_count": 12,
   "metadata": {},
   "outputs": [
    {
     "name": "stdout",
     "output_type": "stream",
     "text": [
      "Treinando DecisionTreeClassifier...\n",
      "Tempo de treino (secs): 0.496\n"
     ]
    },
    {
     "data": {
      "text/plain": [
       "0.49567484855651855"
      ]
     },
     "execution_count": 12,
     "metadata": {},
     "output_type": "execute_result"
    }
   ],
   "source": [
    "# Treinando o modelo\n",
    "import time\n",
    "\n",
    "def train_classifier(clf, X_train, y_train):\n",
    "    print (\"Treinando {}...\".format(clf.__class__.__name__))\n",
    "    start = time.time()\n",
    "    clf.fit(X_train, y_train)\n",
    "    end = time.time()\n",
    "    print (\"Tempo de treino (secs): {:.3f}\".format(end - start))\n",
    "    return end - start\n",
    "\n",
    "clf = DecisionTreeClassifier()\n",
    "\n",
    "# Ajustar o modelo aos dados de treinamento\n",
    "train_classifier(clf, X_train, y_train)  "
   ]
  },
  {
   "cell_type": "code",
   "execution_count": 13,
   "metadata": {},
   "outputs": [
    {
     "name": "stdout",
     "output_type": "stream",
     "text": [
      "Prevendo rótulos usando DecisionTreeClassifier...\n",
      "Tempo de previsão (secs): 0.006\n",
      " F1score para o conjunto de treinamento: 0.99945\n"
     ]
    }
   ],
   "source": [
    "# Prever e calcular a pontuação F1\n",
    "from sklearn.metrics import f1_score\n",
    "\n",
    "def predict_labels(clf, features, target):\n",
    "    print (\"Prevendo rótulos usando {}...\".format(clf.__class__.__name__))\n",
    "    start = time.time()\n",
    "    y_pred = clf.predict(features)\n",
    "    end = time.time()\n",
    "    print (\"Tempo de previsão (secs): {:.3f}\".format(end - start))\n",
    "\n",
    "    return f1_score(target.values, y_pred, pos_label=1, average='micro'), end - start\n",
    "\n",
    "train_f1_score = predict_labels(clf, X_train, y_train)\n",
    "print (\" F1score para o conjunto de treinamento: {}\".format(train_f1_score[0]))\n"
   ]
  },
  {
   "cell_type": "code",
   "execution_count": 14,
   "metadata": {},
   "outputs": [
    {
     "name": "stdout",
     "output_type": "stream",
     "text": [
      "Prevendo rótulos usando DecisionTreeClassifier...\n",
      "Tempo de previsão (secs): 0.004\n",
      "F1score para o conjunto de teste: 0.7252999999999998\n"
     ]
    }
   ],
   "source": [
    "# Prever nos dados de teste\n",
    "print (\"F1score para o conjunto de teste: {}\".format(predict_labels(clf, X_test, y_test)[0]))"
   ]
  },
  {
   "cell_type": "markdown",
   "metadata": {},
   "source": [
    "### Processando vários modelos"
   ]
  },
  {
   "cell_type": "code",
   "execution_count": 15,
   "metadata": {
    "scrolled": true
   },
   "outputs": [
    {
     "name": "stdout",
     "output_type": "stream",
     "text": [
      "Treinando DecisionTreeClassifier...\n",
      "Tempo de treino (secs): 0.095\n",
      "Prevendo rótulos usando DecisionTreeClassifier...\n",
      "Tempo de previsão (secs): 0.003\n",
      "Prevendo rótulos usando DecisionTreeClassifier...\n",
      "Tempo de previsão (secs): 0.002\n",
      "Treinando DecisionTreeClassifier...\n",
      "Tempo de treino (secs): 0.179\n",
      "Prevendo rótulos usando DecisionTreeClassifier...\n",
      "Tempo de previsão (secs): 0.004\n",
      "Prevendo rótulos usando DecisionTreeClassifier...\n",
      "Tempo de previsão (secs): 0.001\n",
      "Treinando DecisionTreeClassifier...\n",
      "Tempo de treino (secs): 0.384\n",
      "Prevendo rótulos usando DecisionTreeClassifier...\n",
      "Tempo de previsão (secs): 0.006\n",
      "Prevendo rótulos usando DecisionTreeClassifier...\n",
      "Tempo de previsão (secs): 0.001\n",
      "Treinando SVC...\n",
      "Tempo de treino (secs): 2.276\n",
      "Prevendo rótulos usando SVC...\n",
      "Tempo de previsão (secs): 1.815\n",
      "Prevendo rótulos usando SVC...\n",
      "Tempo de previsão (secs): 0.927\n",
      "Treinando SVC...\n",
      "Tempo de treino (secs): 23.695\n",
      "Prevendo rótulos usando SVC...\n",
      "Tempo de previsão (secs): 6.973\n",
      "Prevendo rótulos usando SVC...\n",
      "Tempo de previsão (secs): 1.727\n",
      "Treinando SVC...\n",
      "Tempo de treino (secs): 147.340\n",
      "Prevendo rótulos usando SVC...\n",
      "Tempo de previsão (secs): 30.191\n",
      "Prevendo rótulos usando SVC...\n",
      "Tempo de previsão (secs): 3.703\n",
      "Treinando GaussianNB...\n",
      "Tempo de treino (secs): 0.004\n",
      "Prevendo rótulos usando GaussianNB...\n",
      "Tempo de previsão (secs): 0.002\n",
      "Prevendo rótulos usando GaussianNB...\n",
      "Tempo de previsão (secs): 0.002\n",
      "Treinando GaussianNB...\n",
      "Tempo de treino (secs): 0.007\n",
      "Prevendo rótulos usando GaussianNB...\n",
      "Tempo de previsão (secs): 0.006\n",
      "Prevendo rótulos usando GaussianNB...\n",
      "Tempo de previsão (secs): 0.002\n",
      "Treinando GaussianNB...\n",
      "Tempo de treino (secs): 0.011\n",
      "Prevendo rótulos usando GaussianNB...\n",
      "Tempo de previsão (secs): 0.013\n",
      "Prevendo rótulos usando GaussianNB...\n",
      "Tempo de previsão (secs): 0.002\n",
      "Treinando LogisticRegression...\n",
      "Tempo de treino (secs): 0.128\n",
      "Prevendo rótulos usando LogisticRegression...\n",
      "Tempo de previsão (secs): 0.001\n",
      "Prevendo rótulos usando LogisticRegression...\n",
      "Tempo de previsão (secs): 0.001\n",
      "Treinando LogisticRegression...\n",
      "Tempo de treino (secs): 0.391\n",
      "Prevendo rótulos usando LogisticRegression...\n",
      "Tempo de previsão (secs): 0.002\n",
      "Prevendo rótulos usando LogisticRegression...\n",
      "Tempo de previsão (secs): 0.001\n",
      "Treinando LogisticRegression...\n",
      "Tempo de treino (secs): 1.146\n",
      "Prevendo rótulos usando LogisticRegression...\n",
      "Tempo de previsão (secs): 0.003\n",
      "Prevendo rótulos usando LogisticRegression...\n",
      "Tempo de previsão (secs): 0.001\n",
      "Treinando Perceptron...\n",
      "Tempo de treino (secs): 0.005\n",
      "Prevendo rótulos usando Perceptron...\n",
      "Tempo de previsão (secs): 0.001\n",
      "Prevendo rótulos usando Perceptron...\n",
      "Tempo de previsão (secs): 0.001\n",
      "Treinando Perceptron...\n",
      "Tempo de treino (secs): 0.009\n",
      "Prevendo rótulos usando Perceptron...\n",
      "Tempo de previsão (secs): 0.002\n",
      "Prevendo rótulos usando Perceptron...\n",
      "Tempo de previsão (secs): 0.001\n",
      "Treinando Perceptron...\n",
      "Tempo de treino (secs): 0.016\n",
      "Prevendo rótulos usando Perceptron...\n",
      "Tempo de previsão (secs): 0.003\n",
      "Prevendo rótulos usando Perceptron...\n",
      "Tempo de previsão (secs): 0.001\n"
     ]
    },
    {
     "data": {
      "text/html": [
       "<div>\n",
       "<style scoped>\n",
       "    .dataframe tbody tr th:only-of-type {\n",
       "        vertical-align: middle;\n",
       "    }\n",
       "\n",
       "    .dataframe tbody tr th {\n",
       "        vertical-align: top;\n",
       "    }\n",
       "\n",
       "    .dataframe thead th {\n",
       "        text-align: right;\n",
       "    }\n",
       "</style>\n",
       "<table border=\"1\" class=\"dataframe\">\n",
       "  <thead>\n",
       "    <tr style=\"text-align: right;\">\n",
       "      <th></th>\n",
       "      <th>Classificador</th>\n",
       "      <th>Tamanho</th>\n",
       "      <th>Tempo treino</th>\n",
       "      <th>Tempo predisão</th>\n",
       "      <th>F1 score - treino</th>\n",
       "      <th>F1 score - teste</th>\n",
       "    </tr>\n",
       "  </thead>\n",
       "  <tbody>\n",
       "    <tr>\n",
       "      <th>0</th>\n",
       "      <td>DecisionTreeClassifier</td>\n",
       "      <td>5000</td>\n",
       "      <td>0.095</td>\n",
       "      <td>0.002</td>\n",
       "      <td>0.99960</td>\n",
       "      <td>0.7252</td>\n",
       "    </tr>\n",
       "    <tr>\n",
       "      <th>1</th>\n",
       "      <td>DecisionTreeClassifier</td>\n",
       "      <td>10000</td>\n",
       "      <td>0.179</td>\n",
       "      <td>0.001</td>\n",
       "      <td>0.99960</td>\n",
       "      <td>0.7260</td>\n",
       "    </tr>\n",
       "    <tr>\n",
       "      <th>2</th>\n",
       "      <td>DecisionTreeClassifier</td>\n",
       "      <td>20000</td>\n",
       "      <td>0.384</td>\n",
       "      <td>0.001</td>\n",
       "      <td>0.99955</td>\n",
       "      <td>0.7204</td>\n",
       "    </tr>\n",
       "    <tr>\n",
       "      <th>3</th>\n",
       "      <td>SVC</td>\n",
       "      <td>5000</td>\n",
       "      <td>2.276</td>\n",
       "      <td>0.927</td>\n",
       "      <td>0.99520</td>\n",
       "      <td>0.7968</td>\n",
       "    </tr>\n",
       "    <tr>\n",
       "      <th>4</th>\n",
       "      <td>SVC</td>\n",
       "      <td>10000</td>\n",
       "      <td>23.695</td>\n",
       "      <td>1.727</td>\n",
       "      <td>0.99500</td>\n",
       "      <td>0.7892</td>\n",
       "    </tr>\n",
       "    <tr>\n",
       "      <th>5</th>\n",
       "      <td>SVC</td>\n",
       "      <td>20000</td>\n",
       "      <td>147.340</td>\n",
       "      <td>3.703</td>\n",
       "      <td>0.99375</td>\n",
       "      <td>0.7672</td>\n",
       "    </tr>\n",
       "    <tr>\n",
       "      <th>6</th>\n",
       "      <td>GaussianNB</td>\n",
       "      <td>5000</td>\n",
       "      <td>0.004</td>\n",
       "      <td>0.002</td>\n",
       "      <td>0.42860</td>\n",
       "      <td>0.4032</td>\n",
       "    </tr>\n",
       "    <tr>\n",
       "      <th>7</th>\n",
       "      <td>GaussianNB</td>\n",
       "      <td>10000</td>\n",
       "      <td>0.007</td>\n",
       "      <td>0.002</td>\n",
       "      <td>0.41150</td>\n",
       "      <td>0.4088</td>\n",
       "    </tr>\n",
       "    <tr>\n",
       "      <th>8</th>\n",
       "      <td>GaussianNB</td>\n",
       "      <td>20000</td>\n",
       "      <td>0.011</td>\n",
       "      <td>0.002</td>\n",
       "      <td>0.37020</td>\n",
       "      <td>0.3732</td>\n",
       "    </tr>\n",
       "    <tr>\n",
       "      <th>9</th>\n",
       "      <td>LogisticRegression</td>\n",
       "      <td>5000</td>\n",
       "      <td>0.128</td>\n",
       "      <td>0.001</td>\n",
       "      <td>0.76740</td>\n",
       "      <td>0.7992</td>\n",
       "    </tr>\n",
       "    <tr>\n",
       "      <th>10</th>\n",
       "      <td>LogisticRegression</td>\n",
       "      <td>10000</td>\n",
       "      <td>0.391</td>\n",
       "      <td>0.001</td>\n",
       "      <td>0.77690</td>\n",
       "      <td>0.7884</td>\n",
       "    </tr>\n",
       "    <tr>\n",
       "      <th>11</th>\n",
       "      <td>LogisticRegression</td>\n",
       "      <td>20000</td>\n",
       "      <td>1.146</td>\n",
       "      <td>0.001</td>\n",
       "      <td>0.78035</td>\n",
       "      <td>0.7652</td>\n",
       "    </tr>\n",
       "    <tr>\n",
       "      <th>12</th>\n",
       "      <td>Perceptron</td>\n",
       "      <td>5000</td>\n",
       "      <td>0.005</td>\n",
       "      <td>0.001</td>\n",
       "      <td>0.70600</td>\n",
       "      <td>0.7248</td>\n",
       "    </tr>\n",
       "    <tr>\n",
       "      <th>13</th>\n",
       "      <td>Perceptron</td>\n",
       "      <td>10000</td>\n",
       "      <td>0.009</td>\n",
       "      <td>0.001</td>\n",
       "      <td>0.77690</td>\n",
       "      <td>0.7884</td>\n",
       "    </tr>\n",
       "    <tr>\n",
       "      <th>14</th>\n",
       "      <td>Perceptron</td>\n",
       "      <td>20000</td>\n",
       "      <td>0.016</td>\n",
       "      <td>0.001</td>\n",
       "      <td>0.78000</td>\n",
       "      <td>0.7656</td>\n",
       "    </tr>\n",
       "  </tbody>\n",
       "</table>\n",
       "</div>"
      ],
      "text/plain": [
       "             Classificador  Tamanho Tempo treino Tempo predisão  \\\n",
       "0   DecisionTreeClassifier     5000        0.095          0.002   \n",
       "1   DecisionTreeClassifier    10000        0.179          0.001   \n",
       "2   DecisionTreeClassifier    20000        0.384          0.001   \n",
       "3                      SVC     5000        2.276          0.927   \n",
       "4                      SVC    10000       23.695          1.727   \n",
       "5                      SVC    20000      147.340          3.703   \n",
       "6               GaussianNB     5000        0.004          0.002   \n",
       "7               GaussianNB    10000        0.007          0.002   \n",
       "8               GaussianNB    20000        0.011          0.002   \n",
       "9       LogisticRegression     5000        0.128          0.001   \n",
       "10      LogisticRegression    10000        0.391          0.001   \n",
       "11      LogisticRegression    20000        1.146          0.001   \n",
       "12              Perceptron     5000        0.005          0.001   \n",
       "13              Perceptron    10000        0.009          0.001   \n",
       "14              Perceptron    20000        0.016          0.001   \n",
       "\n",
       "    F1 score - treino  F1 score - teste  \n",
       "0             0.99960            0.7252  \n",
       "1             0.99960            0.7260  \n",
       "2             0.99955            0.7204  \n",
       "3             0.99520            0.7968  \n",
       "4             0.99500            0.7892  \n",
       "5             0.99375            0.7672  \n",
       "6             0.42860            0.4032  \n",
       "7             0.41150            0.4088  \n",
       "8             0.37020            0.3732  \n",
       "9             0.76740            0.7992  \n",
       "10            0.77690            0.7884  \n",
       "11            0.78035            0.7652  \n",
       "12            0.70600            0.7248  \n",
       "13            0.77690            0.7884  \n",
       "14            0.78000            0.7656  "
      ]
     },
     "execution_count": 15,
     "metadata": {},
     "output_type": "execute_result"
    }
   ],
   "source": [
    "from sklearn.svm import SVC\n",
    "from sklearn.linear_model import Perceptron\n",
    "from sklearn.naive_bayes import GaussianNB \n",
    "#classifiers = [DecisionTreeClassifier(), Perceptron()]\n",
    "classifiers = [DecisionTreeClassifier(), SVC(), GaussianNB(), LogisticRegression(), Perceptron()]\n",
    "results = { \n",
    "        'Classificador': [],\n",
    "        'Tamanho': [], \n",
    "        'Tempo treino': [], \n",
    "        'Tempo predisão': [], \n",
    "        'F1 score - treino': [], \n",
    "        'F1 score - teste': []\n",
    "    }\n",
    "datasets = [train_test_split(X_all, y_all, train_size=x, test_size=2500) for x in [5000, 10000, 20000]]\n",
    "for clf in classifiers:\n",
    "    for data in datasets:\n",
    "        X_train, X_test, y_train, y_test = data\n",
    "        time_train = train_classifier(clf, X_train, y_train)\n",
    "        f1_train, time_predict = predict_labels(clf, X_train, y_train)\n",
    "        f1_test, time_predict = predict_labels(clf, X_test,y_test)\n",
    "        \n",
    "        results['Classificador'].append(clf.__class__.__name__)\n",
    "        results['Tamanho'].append(X_train.shape[0])\n",
    "        results['Tempo treino'].append(\"{:.3f}\".format(time_train))\n",
    "        results['Tempo predisão'].append(\"{:.3f}\".format(time_predict))\n",
    "        results['F1 score - treino'].append(f1_train)\n",
    "        results['F1 score - teste'].append(f1_test)\n",
    "        \n",
    "pd.DataFrame(results)"
   ]
  },
  {
   "cell_type": "markdown",
   "metadata": {},
   "source": [
    "## 5. Redução de dimensionalidade"
   ]
  },
  {
   "cell_type": "code",
   "execution_count": 16,
   "metadata": {},
   "outputs": [
    {
     "data": {
      "text/plain": [
       "DecisionTreeClassifier(class_weight=None, criterion='gini', max_depth=None,\n",
       "            max_features=None, max_leaf_nodes=None,\n",
       "            min_impurity_decrease=0.0, min_impurity_split=None,\n",
       "            min_samples_leaf=1, min_samples_split=2,\n",
       "            min_weight_fraction_leaf=0.0, presort=False, random_state=None,\n",
       "            splitter='best')"
      ]
     },
     "execution_count": 16,
     "metadata": {},
     "output_type": "execute_result"
    }
   ],
   "source": [
    "pca = PCA(n_components=15) # , whiten=True\n",
    "pca.fit(X_train)\n",
    "X_train_ = pca.transform(X_train)\n",
    "X_test_ = pca.transform(X_test)\n",
    "#X_train_[0], y_train[0]\n",
    "\n",
    "#clff = SVC()\n",
    "clff = DecisionTreeClassifier()\n",
    "clff.fit(X_train_, y_train)"
   ]
  },
  {
   "cell_type": "code",
   "execution_count": 17,
   "metadata": {},
   "outputs": [],
   "source": [
    "#pca.components_ \n",
    "#var1=np.cumsum(np.round(pca.explained_variance_ratio_, decimals=4)*100)\n",
    "#print(var1)\n",
    "#plt.plot(var1)\n"
   ]
  },
  {
   "cell_type": "code",
   "execution_count": 18,
   "metadata": {},
   "outputs": [
    {
     "name": "stdout",
     "output_type": "stream",
     "text": [
      "Prevendo rótulos usando DecisionTreeClassifier...\n",
      "Tempo de previsão (secs): 0.006\n",
      " F1score para o conjunto de treinamento: 0.99955\n"
     ]
    }
   ],
   "source": [
    "train_f1_score2 = predict_labels(clff, X_train_, y_train)\n",
    "print (\" F1score para o conjunto de treinamento: {}\".format(train_f1_score2[0]))"
   ]
  },
  {
   "cell_type": "code",
   "execution_count": 19,
   "metadata": {},
   "outputs": [
    {
     "name": "stdout",
     "output_type": "stream",
     "text": [
      "Prevendo rótulos usando DecisionTreeClassifier...\n",
      "Tempo de previsão (secs): 0.001\n",
      "F1score para o conjunto de teste: 0.7148\n"
     ]
    }
   ],
   "source": [
    "# Prever nos dados de teste\n",
    "print (\"F1score para o conjunto de teste: {}\".format(predict_labels(clff, X_test_, y_test)[0]))"
   ]
  },
  {
   "cell_type": "markdown",
   "metadata": {},
   "source": [
    "## 6. Refinando o modelo e mostrando a melhor pontuação de F1\n",
    "\n",
    "A pontuação final de f1 do meu modelo chegou a 0,8102 para o Decision Tree\n",
    "\n",
    "Para chegar a essa pontuação, a pesquisa de grade mostrou que definir uma profundidade máxima de 2 nós e o máximo de recursos usando a raiz quadrada de recursos produz o melhor resultado de modelo f1."
   ]
  },
  {
   "cell_type": "code",
   "execution_count": 20,
   "metadata": {},
   "outputs": [
    {
     "name": "stdout",
     "output_type": "stream",
     "text": [
      "Prevendo rótulos usando DecisionTreeClassifier...\n",
      "Tempo de previsão (secs): 0.001\n",
      "0.8056000000000001\n"
     ]
    }
   ],
   "source": [
    "from sklearn.model_selection import GridSearchCV\n",
    "from sklearn.metrics import make_scorer\n",
    "def performance_metric(label, prediction):\n",
    "    return f1_score(label, prediction, pos_label=1)\n",
    "\n",
    "X_train, X_test, y_train, y_test = datasets[2]\n",
    "parameters = {\n",
    "    'max_features':['log2', 'sqrt'], \n",
    "    'max_depth':[1,2,3,4,5]}\n",
    "\n",
    "#parameters_perc = {\n",
    "#    'alpha':[0.0001], 'fit_intercept':[True]}\n",
    "\n",
    "gnb = GaussianNB()\n",
    "dtc = DecisionTreeClassifier()\n",
    "clf = GridSearchCV(dtc, parameters, scoring = make_scorer(performance_metric, greater_is_better=True))\n",
    "clf.fit(X_train, y_train)\n",
    "f1_test, time_predict = predict_labels(clf.best_estimator_, X_test,y_test)\n",
    "\n",
    "print(f1_test)\n",
    "\n"
   ]
  },
  {
   "cell_type": "code",
   "execution_count": 21,
   "metadata": {},
   "outputs": [],
   "source": [
    "#clf.best_score_\n"
   ]
  },
  {
   "cell_type": "markdown",
   "metadata": {},
   "source": [
    "### Outros testes\n",
    "- Usando Normalização"
   ]
  },
  {
   "cell_type": "code",
   "execution_count": 22,
   "metadata": {},
   "outputs": [],
   "source": [
    "scaler = StandardScaler()  # normalização\n",
    "\n",
    "parameters = {\n",
    "    'max_features':['log2', 'sqrt'], \n",
    "    'max_depth':[1,2,3]}\n",
    "\n",
    "gnb = GaussianNB()\n",
    "dtc = DecisionTreeClassifier()\n",
    "clf = GridSearchCV(dtc, parameters, scoring = make_scorer(performance_metric, greater_is_better=True))\n",
    "pipeline2 = make_pipeline(scaler, clf)\n",
    "\n",
    "pipeline2.fit(X_train, y_train)\n",
    "\n",
    "y_true2 = y_test\n",
    "y_pred2 = pipeline2.predict(X_test)\n",
    "y_score2 = pipeline2.predict_proba(X_test)[:, 1]"
   ]
  },
  {
   "cell_type": "code",
   "execution_count": 23,
   "metadata": {},
   "outputs": [],
   "source": [
    "RANDOM_STATE = 10000\n",
    "X_train, X_test, y_train, y_test = train_test_split(X_all, y_all, test_size=0.5, random_state=RANDOM_STATE)"
   ]
  },
  {
   "cell_type": "code",
   "execution_count": 24,
   "metadata": {},
   "outputs": [],
   "source": [
    "scaler = StandardScaler() # normalização\n",
    "param_grid = dict(C=np.logspace(-5, 5, 11), penalty=['l1', 'l2'])\n",
    "regr = LogisticRegression()\n",
    "cv = GridSearchCV(estimator=regr, param_grid=param_grid, scoring='average_precision')\n",
    "pipeline = make_pipeline(scaler, cv)\n",
    "\n",
    "pipeline.fit(X_train, y_train)\n",
    "\n",
    "y_true = y_test\n",
    "y_pred = pipeline.predict(X_test) # manterá o valor real da coluna que é o valor de credibilidade. Nesse caso, são apenas os próprios valores de teste.\n",
    "y_score = pipeline.predict_proba(X_test)[:, 1] # detém os novos valores previstos "
   ]
  },
  {
   "cell_type": "markdown",
   "metadata": {},
   "source": [
    "## 7. Avaliando o Modelo\n",
    "\n",
    "- acurácia\n",
    "- f1 score\n",
    "- precision e recal\n",
    "- curva roc\n",
    "- matrix de convulsão"
   ]
  },
  {
   "cell_type": "code",
   "execution_count": 25,
   "metadata": {},
   "outputs": [
    {
     "data": {
      "text/plain": [
       "0.8156"
      ]
     },
     "execution_count": 25,
     "metadata": {},
     "output_type": "execute_result"
    }
   ],
   "source": [
    "#precisão do modelo, porcentagem dos valores que o preditor pode prever corretamente\n",
    "accuracy_score(y_true=y_true2, y_pred=y_pred2)  # decision tree"
   ]
  },
  {
   "cell_type": "code",
   "execution_count": 26,
   "metadata": {},
   "outputs": [
    {
     "data": {
      "text/plain": [
       "0.8088"
      ]
     },
     "execution_count": 26,
     "metadata": {},
     "output_type": "execute_result"
    }
   ],
   "source": [
    "accuracy_score(y_true=y_true, y_pred=y_pred) #LogisticRegression"
   ]
  },
  {
   "cell_type": "code",
   "execution_count": 27,
   "metadata": {},
   "outputs": [
    {
     "data": {
      "text/plain": [
       "array([[11358,   322],\n",
       "       [ 2546,   774]], dtype=int64)"
      ]
     },
     "execution_count": 27,
     "metadata": {},
     "output_type": "execute_result"
    }
   ],
   "source": [
    "confusion_matrix(y_true=y_true, y_pred=y_pred) #LogisticRegression"
   ]
  },
  {
   "cell_type": "code",
   "execution_count": 28,
   "metadata": {},
   "outputs": [
    {
     "data": {
      "text/plain": [
       "array([[1843,   70],\n",
       "       [ 391,  196]], dtype=int64)"
      ]
     },
     "execution_count": 28,
     "metadata": {},
     "output_type": "execute_result"
    }
   ],
   "source": [
    "confusion_matrix(y_true=y_true2, y_pred=y_pred2) # decision tree"
   ]
  },
  {
   "cell_type": "code",
   "execution_count": 29,
   "metadata": {},
   "outputs": [
    {
     "data": {
      "text/plain": [
       "0.7062043795620438"
      ]
     },
     "execution_count": 29,
     "metadata": {},
     "output_type": "execute_result"
    }
   ],
   "source": [
    "precision_score(y_true=y_true, y_pred=y_pred) # LogisticRegression"
   ]
  },
  {
   "cell_type": "code",
   "execution_count": 30,
   "metadata": {},
   "outputs": [
    {
     "data": {
      "text/plain": [
       "0.7368421052631579"
      ]
     },
     "execution_count": 30,
     "metadata": {},
     "output_type": "execute_result"
    }
   ],
   "source": [
    "precision_score(y_true=y_true2, y_pred=y_pred2)  # decision tree"
   ]
  },
  {
   "cell_type": "code",
   "execution_count": 31,
   "metadata": {},
   "outputs": [
    {
     "data": {
      "text/plain": [
       "0.23313253012048193"
      ]
     },
     "execution_count": 31,
     "metadata": {},
     "output_type": "execute_result"
    }
   ],
   "source": [
    "recall_score(y_true=y_true, y_pred=y_pred) # LogisticRegression"
   ]
  },
  {
   "cell_type": "code",
   "execution_count": 32,
   "metadata": {},
   "outputs": [
    {
     "data": {
      "text/plain": [
       "0.3339011925042589"
      ]
     },
     "execution_count": 32,
     "metadata": {},
     "output_type": "execute_result"
    }
   ],
   "source": [
    "recall_score(y_true=y_true2, y_pred=y_pred2)  # decision tree"
   ]
  },
  {
   "cell_type": "code",
   "execution_count": 33,
   "metadata": {},
   "outputs": [],
   "source": [
    "def plot_roc_curve(y_true, y_score):\n",
    "    from sklearn.metrics import roc_curve, auc\n",
    "    \n",
    "    fpr, tpr, _ = roc_curve(y_true=y_true, y_score=y_score)\n",
    "    roc_auc = auc(fpr, tpr)\n",
    "    \n",
    "    plt.figure(figsize=(9, 6))\n",
    "    plt.plot(fpr, tpr, color='darkorange', lw=2, label='ROC (auc = {:0.2}'.format(roc_auc))\n",
    "    plt.plot([0, 1], [0, 1], color='navy', lw=2, linestyle='--')\n",
    "    plt.xlabel('Taxa positiva falsa')\n",
    "    plt.ylabel('Taxa positiva verdadeira')\n",
    "    plt.title('Curva Roc')\n",
    "    plt.legend(loc=\"lower right\")\n",
    "\n",
    "def plot_confusion_matrix(cm, class_names):\n",
    "    import itertools\n",
    "   \n",
    "    cm = cm.astype(np.float) / cm.sum(axis=1)[:, np.newaxis]\n",
    " \n",
    "    plt.imshow(cm, interpolation='nearest', cmap=plt.cm.Blues)\n",
    "    plt.title('Matriz de Confulsão')\n",
    "    plt.colorbar()\n",
    "    tick_marks = np.arange(len(class_names))\n",
    "    plt.xticks(tick_marks, class_names, rotation=45)\n",
    "    plt.yticks(tick_marks, class_names)\n",
    "    \n",
    "    for i, j in itertools.product(range(cm.shape[0]), range(cm.shape[1])):\n",
    "        color = \"white\" if cm[i, j] > cm.max() / 2 else \"black\"\n",
    "        plt.text(j, i, format(cm[i, j], '.2f'), horizontalalignment=\"center\", color=color)\n",
    "        \n",
    "    plt.ylabel('Rótulo verdadeiro')\n",
    "    plt.xlabel('Rótulo previsto')\n",
    "    plt.show()"
   ]
  },
  {
   "cell_type": "markdown",
   "metadata": {},
   "source": [
    "- O valor do AUC varia de 0,0 até 1,0 e o limiar entre a classe é 0,5. Ou seja, acima desse limite, o algoritmo classifica em uma classe e abaixo na outra classe. Quanto maior o AUC, melhor."
   ]
  },
  {
   "cell_type": "code",
   "execution_count": 34,
   "metadata": {},
   "outputs": [
    {
     "data": {
      "image/png": "[encoded data removed]",
      "text/plain": [
       "<Figure size 648x432 with 1 Axes>"
      ]
     },
     "metadata": {
      "needs_background": "light"
     },
     "output_type": "display_data"
    }
   ],
   "source": [
    "plot_roc_curve(y_true=y_true, y_score=y_score) #LogisticRegression"
   ]
  },
  {
   "cell_type": "code",
   "execution_count": 35,
   "metadata": {},
   "outputs": [
    {
     "data": {
      "image/png": "[encoded data removed]",
      "text/plain": [
       "<Figure size 648x432 with 1 Axes>"
      ]
     },
     "metadata": {
      "needs_background": "light"
     },
     "output_type": "display_data"
    }
   ],
   "source": [
    "plot_roc_curve(y_true=y_true2, y_score=y_score2)  #decision tree"
   ]
  },
  {
   "cell_type": "code",
   "execution_count": 36,
   "metadata": {},
   "outputs": [
    {
     "data": {
      "image/png": "[encoded data removed]",
      "text/plain": [
       "<Figure size 432x288 with 2 Axes>"
      ]
     },
     "metadata": {
      "needs_background": "light"
     },
     "output_type": "display_data"
    }
   ],
   "source": [
    "plot_confusion_matrix(cm=confusion_matrix(y_true=y_true2, y_pred=y_pred2),\n",
    "                      class_names=[\"not next payment\", \"nex payment\"]) # decision tree"
   ]
  },
  {
   "cell_type": "code",
   "execution_count": 37,
   "metadata": {},
   "outputs": [
    {
     "data": {
      "image/png": "[encoded data removed]",
      "text/plain": [
       "<Figure size 432x288 with 2 Axes>"
      ]
     },
     "metadata": {
      "needs_background": "light"
     },
     "output_type": "display_data"
    }
   ],
   "source": [
    "plot_confusion_matrix(cm=confusion_matrix(y_true=y_true, y_pred=y_pred),    #LogisticRegression\n",
    "                      class_names=[\"not next payment\", \"nex payment\"])"
   ]
  },
  {
   "cell_type": "code",
   "execution_count": null,
   "metadata": {},
   "outputs": [],
   "source": []
  },
  {
   "cell_type": "code",
   "execution_count": null,
   "metadata": {},
   "outputs": [],
   "source": []
  },
  {
   "cell_type": "code",
   "execution_count": null,
   "metadata": {},
   "outputs": [],
   "source": []
  },
  {
   "cell_type": "code",
   "execution_count": null,
   "metadata": {},
   "outputs": [],
   "source": []
  }
 ],
 "metadata": {
  "celltoolbar": "Raw Cell Format",
  "kernelspec": {
   "display_name": "Python 3",
   "language": "python",
   "name": "python3"
  },
  "language_info": {
   "codemirror_mode": {
    "name": "ipython",
    "version": 3
   },
   "file_extension": ".py",
   "mimetype": "text/x-python",
   "name": "python",
   "nbconvert_exporter": "python",
   "pygments_lexer": "ipython3",
   "version": "3.6.8"
  }
 },
 "nbformat": 4,
 "nbformat_minor": 1
}
